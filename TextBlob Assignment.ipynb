{
 "cells": [
  {
   "cell_type": "code",
   "execution_count": 12,
   "id": "obvious-german",
   "metadata": {},
   "outputs": [
    {
     "name": "stdout",
     "output_type": "stream",
     "text": [
      "Requirement already satisfied: textblob in /home/vishwanath/.local/lib/python3.8/site-packages (0.15.3)\n",
      "Requirement already satisfied: nltk>=3.1 in /home/vishwanath/.local/lib/python3.8/site-packages (from textblob) (3.5)\n",
      "Requirement already satisfied: tqdm in /home/vishwanath/.local/lib/python3.8/site-packages (from nltk>=3.1->textblob) (4.59.0)\n",
      "Requirement already satisfied: regex in /home/vishwanath/.local/lib/python3.8/site-packages (from nltk>=3.1->textblob) (2021.3.17)\n",
      "Requirement already satisfied: click in /home/vishwanath/.local/lib/python3.8/site-packages (from nltk>=3.1->textblob) (7.1.2)\n",
      "Requirement already satisfied: joblib in /home/vishwanath/.local/lib/python3.8/site-packages (from nltk>=3.1->textblob) (1.0.1)\n"
     ]
    }
   ],
   "source": [
    "!pip3 install textblob"
   ]
  },
  {
   "cell_type": "code",
   "execution_count": 14,
   "id": "executed-tulsa",
   "metadata": {},
   "outputs": [
    {
     "name": "stdout",
     "output_type": "stream",
     "text": [
      "[nltk_data] Downloading package brown to /home/vishwanath/nltk_data...\n",
      "[nltk_data]   Unzipping corpora/brown.zip.\n",
      "[nltk_data] Downloading package punkt to /home/vishwanath/nltk_data...\n",
      "[nltk_data]   Package punkt is already up-to-date!\n",
      "[nltk_data] Downloading package wordnet to\n",
      "[nltk_data]     /home/vishwanath/nltk_data...\n",
      "[nltk_data]   Package wordnet is already up-to-date!\n",
      "[nltk_data] Downloading package averaged_perceptron_tagger to\n",
      "[nltk_data]     /home/vishwanath/nltk_data...\n",
      "[nltk_data]   Unzipping taggers/averaged_perceptron_tagger.zip.\n",
      "[nltk_data] Downloading package conll2000 to\n",
      "[nltk_data]     /home/vishwanath/nltk_data...\n",
      "[nltk_data]   Unzipping corpora/conll2000.zip.\n",
      "[nltk_data] Downloading package movie_reviews to\n",
      "[nltk_data]     /home/vishwanath/nltk_data...\n",
      "[nltk_data]   Unzipping corpora/movie_reviews.zip.\n",
      "Finished.\n"
     ]
    }
   ],
   "source": [
    "!python3 -m textblob.download_corpora"
   ]
  },
  {
   "cell_type": "code",
   "execution_count": 15,
   "id": "broke-myrtle",
   "metadata": {},
   "outputs": [],
   "source": [
    "from textblob import TextBlob"
   ]
  },
  {
   "cell_type": "markdown",
   "id": "according-boston",
   "metadata": {},
   "source": [
    "**Question 1.** Write a python program using Textblob in which find out the parts-of-speech(pos) tagging from the following sentence.\n",
    "\n",
    "\"Susie works in a shoeshine shop. Where she shines she sits, and where she sits she shines\""
   ]
  },
  {
   "cell_type": "code",
   "execution_count": 24,
   "id": "wound-romance",
   "metadata": {},
   "outputs": [
    {
     "data": {
      "text/plain": [
       "[('Susie', 'NNP'),\n",
       " ('works', 'VBZ'),\n",
       " ('in', 'IN'),\n",
       " ('a', 'DT'),\n",
       " ('shoeshine', 'NN'),\n",
       " ('shop', 'NN'),\n",
       " ('Where', 'WRB'),\n",
       " ('she', 'PRP'),\n",
       " ('shines', 'VBZ'),\n",
       " ('she', 'PRP'),\n",
       " ('sits', 'VBZ'),\n",
       " ('and', 'CC'),\n",
       " ('where', 'WRB'),\n",
       " ('she', 'PRP'),\n",
       " ('sits', 'VBZ'),\n",
       " ('she', 'PRP'),\n",
       " ('shines', 'NNS')]"
      ]
     },
     "execution_count": 24,
     "metadata": {},
     "output_type": "execute_result"
    }
   ],
   "source": [
    "sent = \"Susie works in a shoeshine shop. Where she shines she sits, and where she sits she shines\"\n",
    "text = TextBlob(sent)\n",
    "text.tags"
   ]
  },
  {
   "cell_type": "markdown",
   "id": "joint-kingdom",
   "metadata": {},
   "source": [
    "**Question 2.** Write a python program using the textblob to find out the count of the common words from the following sentence.\n",
    "\n",
    "\"How much wood would a woodchuck chuck if a woodchuck could chuck wood?\n",
    "He would chuck, he would, as much as he could, and chuck as much wood\n",
    "As a woodchuck would if a woodchuck could chuck wood\"\n",
    "\n",
    "Find it out how many times 'wood' came in the sentence.\"\n"
   ]
  },
  {
   "cell_type": "code",
   "execution_count": 42,
   "id": "inclusive-holly",
   "metadata": {},
   "outputs": [
    {
     "data": {
      "text/plain": [
       "4"
      ]
     },
     "execution_count": 42,
     "metadata": {},
     "output_type": "execute_result"
    }
   ],
   "source": [
    "sent = \"How much wood would a woodchuck chuck if a woodchuck could chuck wood? He would chuck, he would, as much as he could, and chuck as much wood As a woodchuck would if a woodchuck could chuck wood\"\n",
    "sentance = TextBlob(sent)\n",
    "sentance.word_counts['wood']"
   ]
  },
  {
   "cell_type": "markdown",
   "id": "intimate-pathology",
   "metadata": {},
   "source": [
    "**Question 3.** Translate the following sentences in your own language using the textblob.\n",
    "\n",
    "\"Data is a new oil.\", \"A.I is the last invention\", \"She sells seashells by the seashore\", \"He threw three free throws\".\n"
   ]
  },
  {
   "cell_type": "code",
   "execution_count": 33,
   "id": "indirect-administration",
   "metadata": {},
   "outputs": [
    {
     "name": "stdout",
     "output_type": "stream",
     "text": [
      "ಡೇಟಾ ಹೊಸ ತೈಲ.\n",
      "A.I ಕೊನೆಯ ಆವಿಷ್ಕಾರ\n",
      "ಅವಳು ಸಮುದ್ರ ತೀರದಿಂದ ಸೀಶೆಲ್ಗಳನ್ನು ಮಾರುತ್ತಾಳೆ\n",
      "ಅವರು ಮೂರು ಉಚಿತ ಥ್ರೋಗಳನ್ನು ಎಸೆದರು\n"
     ]
    }
   ],
   "source": [
    "for each in [\"Data is a new oil.\", \"A.I is the last invention\", \"She sells seashells by the seashore\", \"He threw three free throws\"]:\n",
    "    blob = TextBlob(each)\n",
    "    print(blob.translate(to='kn'))"
   ]
  },
  {
   "cell_type": "markdown",
   "id": "mediterranean-protest",
   "metadata": {},
   "source": [
    "**Question 4.** Create a spell checker program using the textblob library with using your own sentences."
   ]
  },
  {
   "cell_type": "code",
   "execution_count": 36,
   "id": "intense-diabetes",
   "metadata": {},
   "outputs": [
    {
     "data": {
      "text/plain": [
       "TextBlob(\"Is far as I am all to judge, after long attending to the subject, the conditions of life appear to act in two ways—directly on the while organisation or on certain parts alone and indirectly by acting the reproduce system. It respect to te direct action, we must be in mid the in every case, as Professor Weismann he lately insisted, and as I have evidently shown in my work on \"Variation under Domesticcation,\" there are two facts: namely, the nature of the organism and the nature of the conditions. The former seems to be much th are important; for nearly similar variations sometimes arms under, as far as we in judge, similar condition; and, on te other hand, disssimilar variations arise under conditions which appear to be nearly uniform. The effects on the offspring are either definite or in definite. They may be considered as definite when all or nearly all the offspring off individuals exposed to certain conditions during several generations are modified in te same manner.\")"
      ]
     },
     "execution_count": 36,
     "metadata": {},
     "output_type": "execute_result"
    }
   ],
   "source": [
    "sent = 'As far as I am abl to judg, after long attnding to the sbject, the condiions of lfe apear to act in two ways—directly on the whle organsaton or on certin parts alne and indirectly by afcting the reproducte sstem. Wit respct to te dirct action, we mst bea in mid tht in every cse, as Profesor Weismann hs latly insistd, and as I have inidently shwn in my wrk on \"Variatin undr Domesticcation,\" thcere arae two factrs: namly, the natre of the orgnism and the natture of the condiions. The frmer sems to be much th mre importannt; foor nealy siimilar variations sometimes aris under, as far as we cn juddge, disimilar conditios; annd, on te oter hannd, disssimilar variatioons arise undder conditions which aappear to be nnearly uniiform. The efffects on tthe offspring arre ieither definnite or in definite. They maay be considdered as definnite whhen allc or neearly all thhe ofefspring off inadividuals exnposed tco ceertain conditionas duriing seveal ggenerations aree moodified in te saame maner.'\n",
    "text = TextBlob(sent)\n",
    "text.correct()"
   ]
  }
 ],
 "metadata": {
  "kernelspec": {
   "display_name": "Python 3",
   "language": "python",
   "name": "python3"
  },
  "language_info": {
   "codemirror_mode": {
    "name": "ipython",
    "version": 3
   },
   "file_extension": ".py",
   "mimetype": "text/x-python",
   "name": "python",
   "nbconvert_exporter": "python",
   "pygments_lexer": "ipython3",
   "version": "3.8.5"
  }
 },
 "nbformat": 4,
 "nbformat_minor": 5
}
